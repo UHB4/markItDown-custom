{
 "cells": [
  {
   "cell_type": "code",
   "execution_count": 3,
   "metadata": {},
   "outputs": [
    {
     "ename": "ModuleNotFoundError",
     "evalue": "No module named 'src'",
     "output_type": "error",
     "traceback": [
      "\u001b[31m---------------------------------------------------------------------------\u001b[39m",
      "\u001b[31mModuleNotFoundError\u001b[39m                       Traceback (most recent call last)",
      "\u001b[36mCell\u001b[39m\u001b[36m \u001b[39m\u001b[32mIn[3]\u001b[39m\u001b[32m, line 6\u001b[39m\n\u001b[32m      4\u001b[39m \u001b[38;5;28;01mimport\u001b[39;00m\u001b[38;5;250m \u001b[39m\u001b[34;01mos\u001b[39;00m\n\u001b[32m      5\u001b[39m \u001b[38;5;28;01mimport\u001b[39;00m\u001b[38;5;250m \u001b[39m\u001b[34;01msys\u001b[39;00m\n\u001b[32m----> \u001b[39m\u001b[32m6\u001b[39m \u001b[38;5;28;01mfrom\u001b[39;00m\u001b[38;5;250m \u001b[39m\u001b[34;01msrc\u001b[39;00m\u001b[34;01m.\u001b[39;00m\u001b[34;01mmarkitdown\u001b[39;00m\u001b[38;5;250m \u001b[39m\u001b[38;5;28;01mimport\u001b[39;00m MarkItDown\n\u001b[32m      8\u001b[39m notebook_path = os.getcwd()  \u001b[38;5;66;03m# 현재 작업 디렉토리\u001b[39;00m\n\u001b[32m      9\u001b[39m project_root = os.path.abspath(os.path.join(notebook_path, \u001b[33m'\u001b[39m\u001b[33m..\u001b[39m\u001b[33m'\u001b[39m))  \u001b[38;5;66;03m# 상위 디렉토리로 이동\u001b[39;00m\n",
      "\u001b[31mModuleNotFoundError\u001b[39m: No module named 'src'"
     ]
    }
   ],
   "source": [
    "import http.server\n",
    "import socketserver\n",
    "import threading\n",
    "import os\n",
    "import sys\n",
    "from src.markitdown import MarkItDown\n",
    "\n",
    "notebook_path = os.getcwd()  # 현재 작업 디렉토리\n",
    "project_root = os.path.abspath(os.path.join(notebook_path, '..'))  # 상위 디렉토리로 이동\n",
    "\n",
    "sys.path.append(project_root)\n",
    "def start_http_server(port=8000):\n",
    "    handler = http.server.SimpleHTTPRequestHandler\n",
    "    \n",
    "    with socketserver.TCPServer((\"\", port), handler) as httpd:\n",
    "        print(f\"서버가 시작되었습니다. http://localhost:{port}/\")\n",
    "        httpd.serve_forever()\n",
    "\n",
    "# 백그라운드 스레드로 서버 실행\n",
    "server_thread = threading.Thread(target=start_http_server, daemon=True)\n",
    "server_thread.start()\n",
    "\n",
    "\n",
    "md = MarkItDown()\n",
    "sample_path = os.path.join(project_root, \"samples/sample.pptx\")\n",
    "# 마크다운 변환 실행\n",
    "base_url = \"http://localhost:8000\"  \n",
    "result = md.convert(\n",
    "    sample_path, \n",
    "    base_url=base_url\n",
    ")\n",
    "\n",
    "\n",
    "\n",
    "\n",
    "print(result.text_content)"
   ]
  }
 ],
 "metadata": {
  "kernelspec": {
   "display_name": ".venv",
   "language": "python",
   "name": "python3"
  },
  "language_info": {
   "codemirror_mode": {
    "name": "ipython",
    "version": 3
   },
   "file_extension": ".py",
   "mimetype": "text/x-python",
   "name": "python",
   "nbconvert_exporter": "python",
   "pygments_lexer": "ipython3",
   "version": "3.11.8"
  }
 },
 "nbformat": 4,
 "nbformat_minor": 2
}
